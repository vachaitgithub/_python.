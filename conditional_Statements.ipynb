{
 "cells": [
  {
   "cell_type": "code",
   "execution_count": 1,
   "id": "28a44d03",
   "metadata": {},
   "outputs": [
    {
     "name": "stdout",
     "output_type": "stream",
     "text": [
      "Enter string:Abc\n",
      "Enter string:bc\n",
      "a is greater\n"
     ]
    }
   ],
   "source": [
    "#1 FIND THE GREATEST LENGTH OF THE STRING\n",
    "a = input(\"Enter string:\")\n",
    "b = input(\"Enter string:\")\n",
    "\n",
    "if len(a)>len(b):\n",
    "    print(\"a is greater\")\n",
    "    \n",
    "else:\n",
    "    print(\"b is not greater\")\n"
   ]
  },
  {
   "cell_type": "code",
   "execution_count": 2,
   "id": "847d59dd",
   "metadata": {},
   "outputs": [
    {
     "name": "stdout",
     "output_type": "stream",
     "text": [
      "Enter Number:5\n",
      "Enter Number:3\n",
      "num1 5\n"
     ]
    }
   ],
   "source": [
    "#2 FIND THE SMALLER NUMBER\n",
    "num1 = input(\"Enter Number:\")\n",
    "num2 = input(\"Enter Number:\")\n",
    "\n",
    "if num1<num2:\n",
    "    print(\"num2\",num2)\n",
    "    \n",
    "else:    \n",
    "    print(\"num1\",num1)"
   ]
  },
  {
   "cell_type": "code",
   "execution_count": 3,
   "id": "d7de80c6",
   "metadata": {},
   "outputs": [
    {
     "name": "stdout",
     "output_type": "stream",
     "text": [
      "Enter Number : 3\n",
      "Number is positive: 3\n"
     ]
    }
   ],
   "source": [
    "#3 Find the number is positive or not\n",
    "n = int(input(\"Enter Number : \"))\n",
    "\n",
    "if n>0:\n",
    "    print(\"Number is positive:\",n)\n",
    "    \n",
    "else:\n",
    "    print(\"Number is negetive:\",n)"
   ]
  },
  {
   "cell_type": "code",
   "execution_count": 4,
   "id": "7db6b1a6",
   "metadata": {},
   "outputs": [
    {
     "name": "stdout",
     "output_type": "stream",
     "text": [
      "Enter number:75\n",
      "Divisible by 3\n"
     ]
    }
   ],
   "source": [
    "#4 number is divisible by 3 or not \n",
    "num = int(input(\"Enter number:\"))\n",
    "\n",
    "if num % 3 == 0:\n",
    "    print(\"Divisible by 3\")\n",
    "    \n",
    "else:\n",
    "    print(\"Not divisible by 3\")\n",
    "    "
   ]
  },
  {
   "cell_type": "code",
   "execution_count": 5,
   "id": "27c65413",
   "metadata": {},
   "outputs": [
    {
     "name": "stdout",
     "output_type": "stream",
     "text": [
      "Enter Number45\n",
      "Divisible by both\n"
     ]
    }
   ],
   "source": [
    "#5 number is divisible by 3 and also 5, only 3 ,only 5, 3 or 5\n",
    "num = int(input(\"Enter Number\"))\n",
    "\n",
    "if num % 3==0:\n",
    "    \n",
    "    if num%5==0:\n",
    "        print(\"Divisible by both\")\n",
    "    else:\n",
    "        print(\"Divisible by 3\")\n",
    "        \n",
    "else:\n",
    "    if num % 5==0:\n",
    "        print(\"Divisible by 5\")\n",
    "    else:\n",
    "        print(\"Not Divisible\")"
   ]
  },
  {
   "cell_type": "code",
   "execution_count": 6,
   "id": "49a7d9c9",
   "metadata": {},
   "outputs": [
    {
     "name": "stdout",
     "output_type": "stream",
     "text": [
      "Enter Number90\n",
      "EVEN number\n"
     ]
    }
   ],
   "source": [
    "#6 find num is even or odd\n",
    "num = int(input(\"Enter Number\"))\n",
    "\n",
    "if num % 2==0:\n",
    "    print(\"EVEN number\")\n",
    "    \n",
    "else:\n",
    "    print(\"ODD number\")\n",
    "    "
   ]
  },
  {
   "cell_type": "code",
   "execution_count": 7,
   "id": "3041a32b",
   "metadata": {},
   "outputs": [
    {
     "name": "stdout",
     "output_type": "stream",
     "text": [
      "Enter String:Vacha\n",
      "Enter String:Soni\n",
      "NOT SAME\n"
     ]
    }
   ],
   "source": [
    "#7 find 1st letter of the string is same or not\n",
    "a=str(input(\"Enter String:\"))\n",
    "b=str(input(\"Enter String:\"))\n",
    "\n",
    "if a[0]==b[0]:\n",
    "    print(\" 1st letter SAME\")\n",
    "    \n",
    "else:\n",
    "    print(\"NOT SAME\")\n"
   ]
  },
  {
   "cell_type": "code",
   "execution_count": 8,
   "id": "acb7a31b",
   "metadata": {},
   "outputs": [
    {
     "name": "stdout",
     "output_type": "stream",
     "text": [
      "Enter Mark of Data_Structure:90\n",
      "Enter Mark of Networks:78\n",
      "Enter Mark of Hacking:89\n",
      "Total Marks: 257\n",
      "Percentage: 85.66666666666667\n",
      "Distinction\n"
     ]
    }
   ],
   "source": [
    "#8 find the student class according to their marks (Here there are multiple condition that's why used elif)\n",
    "Data_Structure=int(input(\"Enter Mark of Data_Structure:\"))\n",
    "Networks=int(input(\"Enter Mark of Networks:\"))\n",
    "Hacking=int(input(\"Enter Mark of Hacking:\"))\n",
    "\n",
    "Total=Data_Structure+Networks+Hacking\n",
    "\n",
    "per=(Total/300)*100\n",
    "\n",
    "print(\"Total Marks:\",Total)\n",
    "print(\"Percentage:\",per)\n",
    "\n",
    "if per<50:\n",
    "    print(\"Fail\")\n",
    "elif per<70:\n",
    "    print(\"Third Class\")\n",
    "elif per< 80:\n",
    "    print(\"Second Class\")\n",
    "else:\n",
    "    print(\"Distinction\")"
   ]
  },
  {
   "cell_type": "code",
   "execution_count": 9,
   "id": "489e3a32",
   "metadata": {},
   "outputs": [
    {
     "name": "stdout",
     "output_type": "stream",
     "text": [
      "Enter the value in fahrenheit:56\n",
      "Celsius: 13.333333333333334\n"
     ]
    }
   ],
   "source": [
    "# Fahrenheit to Celsius \n",
    "F = float(input(\"Enter the value in fahrenheit:\"))\n",
    "c= (F-32)*5/9\n",
    "print(\"Celsius:\",c)"
   ]
  },
  {
   "cell_type": "code",
   "execution_count": 10,
   "id": "e7292323",
   "metadata": {},
   "outputs": [
    {
     "name": "stdout",
     "output_type": "stream",
     "text": [
      "Enter the value in celsius:23\n",
      "Fahrenheit 73.4\n"
     ]
    }
   ],
   "source": [
    "# Celsius to Fahrenheit\n",
    "c = float(input(\"Enter the value in celsius:\"))\n",
    "F = c * (9/5) + 32\n",
    "print(\"Fahrenheit\",F)"
   ]
  },
  {
   "cell_type": "code",
   "execution_count": 12,
   "id": "05de1515",
   "metadata": {},
   "outputs": [
    {
     "name": "stdout",
     "output_type": "stream",
     "text": [
      "Enter Weight in kg:61\n",
      "Enter height in cm:1.6\n",
      "BMI: 23.828124999999996\n",
      "You are healthy\n"
     ]
    }
   ],
   "source": [
    "#9 BMI(weight (kg) / [height (cm)]2  (height/100)**2) )\n",
    "Weight = float(input(\"Enter Weight in kg:\"))\n",
    "height = float(input(\"Enter height in cm:\"))\n",
    "BMI = Weight/(height*height) \n",
    "\n",
    "print(\"BMI:\",BMI)\n",
    "\n",
    "if BMI < 18.5:\n",
    "    print(\"You are underweight\")\n",
    "    \n",
    "elif BMI < 24.9:\n",
    "    print(\"You are healthy\")\n",
    "    \n",
    "elif BMI <29.9:\n",
    "    print(\"You are an over weight\")\n",
    "    \n",
    "else:\n",
    "    print(\"You are obese.\")"
   ]
  },
  {
   "cell_type": "code",
   "execution_count": 13,
   "id": "19b4e36d",
   "metadata": {},
   "outputs": [
    {
     "name": "stdout",
     "output_type": "stream",
     "text": [
      "Enter month name:October\n",
      "31 days\n"
     ]
    }
   ],
   "source": [
    "#10 find which month has 30/31/28 days\n",
    "Month = str(input(\"Enter month name:\"))\n",
    "\n",
    "if Month in (\"January\",\"March\",\"May\",\"July\",\"August\",\"October\",\"December\"):\n",
    "    print(\"31 days\")\n",
    "    \n",
    "elif Month in(\"April\",\"June\",\"September\",\"November\"):\n",
    "    print(\"30 days\")\n",
    "    \n",
    "elif Month ==\"February\":\n",
    "    print(\"28 days\")\n",
    "    \n",
    "else:\n",
    "    print(\"None\")"
   ]
  },
  {
   "cell_type": "code",
   "execution_count": 14,
   "id": "5563e181",
   "metadata": {},
   "outputs": [
    {
     "data": {
      "text/plain": [
       "3.141592653589793"
      ]
     },
     "execution_count": 14,
     "metadata": {},
     "output_type": "execute_result"
    }
   ],
   "source": [
    "from math import pi\n",
    "pi"
   ]
  },
  {
   "cell_type": "code",
   "execution_count": 15,
   "id": "414d6ccd",
   "metadata": {},
   "outputs": [
    {
     "name": "stdout",
     "output_type": "stream",
     "text": [
      "enter radius:50\n",
      "circumference of circle: 314.1592653589793\n"
     ]
    }
   ],
   "source": [
    "#circumference of circle \n",
    "from math import pi\n",
    "r = float(input(\"enter radius:\"))\n",
    "c = 2*pi*r\n",
    "print(\"circumference of circle:\",c)"
   ]
  },
  {
   "cell_type": "code",
   "execution_count": 16,
   "id": "f45fc1e7",
   "metadata": {},
   "outputs": [
    {
     "name": "stdout",
     "output_type": "stream",
     "text": [
      "Enter Number:999\n",
      "Number is between 900 to 1000\n"
     ]
    }
   ],
   "source": [
    "#11 Find the range of the given number\n",
    "Num=int(input(\"Enter Number:\"))\n",
    "\n",
    "if Num<=100:\n",
    "    print(\"Number is between 1 to 100\")\n",
    "elif Num<=200:\n",
    "    print(\"Number is between 100 to 200\")\n",
    "elif Num<=300:\n",
    "    print(\"Number is between 200 to 300\")   \n",
    "elif Num<=400:\n",
    "    print(\"Number is between 300 to 400\")\n",
    "elif Num<=500:\n",
    "    print(\"Number is between 400 to 500\")\n",
    "elif Num<=600:\n",
    "    print(\"Number is between 500 to 600\")\n",
    "elif Num<=700:\n",
    "    print(\"Number is between 600 to 700\")\n",
    "elif Num<=800:\n",
    "    print(\"Number is between 700 to 800\")  \n",
    "elif Num<=900:\n",
    "    print(\"Number is between 800 to 900\")    \n",
    "elif Num<=1000:\n",
    "    print(\"Number is between 900 to 1000\")\n",
    "else:\n",
    "    print(\"Out of range\")"
   ]
  },
  {
   "cell_type": "code",
   "execution_count": 17,
   "id": "6e26b253",
   "metadata": {},
   "outputs": [
    {
     "name": "stdout",
     "output_type": "stream",
     "text": [
      "Enter Alphabate:A\n",
      "It is a Vowel\n"
     ]
    }
   ],
   "source": [
    "#12 to check alphabate is  vowel or constant\n",
    "a=input(\"Enter Alphabate:\")\n",
    "\n",
    "if a in (\"a\",\"e\",\"i\",\"o\",\"u\"):\n",
    "    print(\"It is a Vowel\")\n",
    "    \n",
    "elif a in(\"A\",\"E\",\"I\",\"O\",\"U\"):\n",
    "     print(\"It is a Vowel\")\n",
    "        \n",
    "else:\n",
    "    print(\"It is a Constant\")\n",
    "        "
   ]
  },
  {
   "cell_type": "code",
   "execution_count": 18,
   "id": "da9aa065",
   "metadata": {},
   "outputs": [
    {
     "name": "stdout",
     "output_type": "stream",
     "text": [
      "Enter your birth Year:2003\n",
      "SHEEP\n"
     ]
    }
   ],
   "source": [
    "#13 to diaplay sign of the chinese zodic for given year in which you where born\n",
    "Year = int(input(\"Enter your birth Year:\"))\n",
    "\n",
    "if Year % 12 ==0 :\n",
    "    print(\"MONKEY\")\n",
    "elif Year % 12 ==1 :\n",
    "    print(\"ROOSTER\")    \n",
    "elif Year % 12 == 2 :\n",
    "    print(\"DOG\")\n",
    "elif Year % 12 == 3 :\n",
    "    print(\"PIG\")\n",
    "elif Year % 12 == 4:\n",
    "    print(\"RAT\")\n",
    "elif Year % 12 == 5:\n",
    "    print(\"OX\")\n",
    "elif Year % 12 == 6:\n",
    "    print(\"TIGER\")\n",
    "elif Year % 12 == 7:\n",
    "    print(\"RABBIT\")\n",
    "elif Year % 12 == 8:\n",
    "    print(\"DRAGON\")\n",
    "elif Year % 12 == 9:\n",
    "    print(\"SNAKE\") \n",
    "elif Year % 12 == 10:\n",
    "    print(\"HORSE\")    \n",
    "elif Year % 12 ==11 :\n",
    "    print(\"SHEEP\") \n",
    "else:\n",
    "    print(\"Not Found\")"
   ]
  },
  {
   "cell_type": "code",
   "execution_count": 19,
   "id": "10b1b998",
   "metadata": {},
   "outputs": [
    {
     "name": "stdout",
     "output_type": "stream",
     "text": [
      "Input birthday: 23\n",
      "Input month of birth (e.g. march, july etc): december\n",
      "Your Astrological sign is : capricorn\n"
     ]
    }
   ],
   "source": [
    "#14 to diaplay astrological sign to given date of birth \n",
    "day = int(input(\"Input birthday: \"))\n",
    "month = input(\"Input month of birth (e.g. march, july etc): \")\n",
    "\n",
    "if month == 'december':\n",
    "    astro_sign = 'Sagittarius' if (day < 22) else 'capricorn'\n",
    "elif month == 'january':\n",
    "    astro_sign = 'Capricorn' if (day < 20) else 'aquarius'\n",
    "elif month == 'february':\n",
    "    astro_sign = 'Aquarius' if (day < 19) else 'pisces'\n",
    "elif month == 'march':\n",
    "    astro_sign = 'Pisces' if (day < 21) else 'aries'\n",
    "elif month == 'april':\n",
    "    astro_sign = 'Aries' if (day < 20) else 'taurus'\n",
    "elif month == 'may':\n",
    "    astro_sign = 'Taurus' if (day < 21) else 'gemini'\n",
    "elif month == 'june':\n",
    "    astro_sign = 'Gemini' if (day < 21) else 'cancer'\n",
    "elif month == 'july':\n",
    "    astro_sign = 'Cancer' if (day < 23) else 'leo'\n",
    "elif month == 'august':\n",
    "    astro_sign = 'Leo' if (day < 23) else 'virgo'\n",
    "elif month == 'september':\n",
    "    astro_sign = 'Virgo' if (day < 23) else 'libra'\n",
    "elif month == 'october':\n",
    "    astro_sign = 'Libra' if (day < 23) else 'scorpio'\n",
    "elif month == 'november':\n",
    "    astro_sign = 'scorpio' if (day < 22) else 'sagittarius'\n",
    "    \n",
    "print(\"Your Astrological sign is :\",astro_sign)"
   ]
  },
  {
   "cell_type": "code",
   "execution_count": null,
   "id": "812ad06d",
   "metadata": {},
   "outputs": [],
   "source": []
  }
 ],
 "metadata": {
  "kernelspec": {
   "display_name": "Python 3 (ipykernel)",
   "language": "python",
   "name": "python3"
  },
  "language_info": {
   "codemirror_mode": {
    "name": "ipython",
    "version": 3
   },
   "file_extension": ".py",
   "mimetype": "text/x-python",
   "name": "python",
   "nbconvert_exporter": "python",
   "pygments_lexer": "ipython3",
   "version": "3.11.4"
  }
 },
 "nbformat": 4,
 "nbformat_minor": 5
}

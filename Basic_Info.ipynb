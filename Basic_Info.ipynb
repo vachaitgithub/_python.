{
 "cells": [
  {
   "cell_type": "code",
   "execution_count": 5,
   "id": "542f0351",
   "metadata": {},
   "outputs": [
    {
     "data": {
      "text/plain": [
       "20"
      ]
     },
     "execution_count": 5,
     "metadata": {},
     "output_type": "execute_result"
    }
   ],
   "source": [
    "#BASIC INFO\n",
    "a=10 #to declare a variable\n",
    "b=10\n",
    "a+b\n"
   ]
  },
  {
   "cell_type": "code",
   "execution_count": 6,
   "id": "bc3e45cb",
   "metadata": {},
   "outputs": [
    {
     "data": {
      "text/plain": [
       "10"
      ]
     },
     "execution_count": 6,
     "metadata": {},
     "output_type": "execute_result"
    }
   ],
   "source": [
    "a #find a value of a"
   ]
  },
  {
   "cell_type": "code",
   "execution_count": 7,
   "id": "3f0c38f3",
   "metadata": {},
   "outputs": [
    {
     "data": {
      "text/plain": [
       "10"
      ]
     },
     "execution_count": 7,
     "metadata": {},
     "output_type": "execute_result"
    }
   ],
   "source": [
    "b"
   ]
  },
  {
   "cell_type": "code",
   "execution_count": 11,
   "id": "3c4378be",
   "metadata": {},
   "outputs": [
    {
     "data": {
      "text/plain": [
       "'vachaSoni'"
      ]
     },
     "execution_count": 11,
     "metadata": {},
     "output_type": "execute_result"
    }
   ],
   "source": [
    "a='vacha'#declare a string\n",
    "b=\"Soni\"\n",
    "a+b"
   ]
  },
  {
   "cell_type": "code",
   "execution_count": 12,
   "id": "77448dc6",
   "metadata": {},
   "outputs": [
    {
     "data": {
      "text/plain": [
       "str"
      ]
     },
     "execution_count": 12,
     "metadata": {},
     "output_type": "execute_result"
    }
   ],
   "source": [
    "type(a) #to find a datatype"
   ]
  },
  {
   "cell_type": "code",
   "execution_count": 14,
   "id": "e609b7eb",
   "metadata": {},
   "outputs": [
    {
     "data": {
      "text/plain": [
       "complex"
      ]
     },
     "execution_count": 14,
     "metadata": {},
     "output_type": "execute_result"
    }
   ],
   "source": [
    "c=1.5+7j\n",
    "type(c)"
   ]
  },
  {
   "cell_type": "code",
   "execution_count": 15,
   "id": "5da933e2",
   "metadata": {},
   "outputs": [
    {
     "data": {
      "text/plain": [
       "5"
      ]
     },
     "execution_count": 15,
     "metadata": {},
     "output_type": "execute_result"
    }
   ],
   "source": [
    "Name = \"Vacha\"\n",
    "len(Name)  #to find a lenth of a given string"
   ]
  },
  {
   "cell_type": "code",
   "execution_count": 19,
   "id": "30d29361",
   "metadata": {},
   "outputs": [
    {
     "data": {
      "text/plain": [
       "'c'"
      ]
     },
     "execution_count": 19,
     "metadata": {},
     "output_type": "execute_result"
    }
   ],
   "source": [
    "Name = \"Vacha\"\n",
    "Name[0] #to find a position of a given string\n"
   ]
  },
  {
   "cell_type": "code",
   "execution_count": 20,
   "id": "d4e7fe52",
   "metadata": {},
   "outputs": [
    {
     "data": {
      "text/plain": [
       "'a'"
      ]
     },
     "execution_count": 20,
     "metadata": {},
     "output_type": "execute_result"
    }
   ],
   "source": [
    "Name[-1] \n"
   ]
  },
  {
   "cell_type": "code",
   "execution_count": 21,
   "id": "87a434e4",
   "metadata": {},
   "outputs": [
    {
     "data": {
      "text/plain": [
       "'c'"
      ]
     },
     "execution_count": 21,
     "metadata": {},
     "output_type": "execute_result"
    }
   ],
   "source": [
    "Name[2]"
   ]
  },
  {
   "cell_type": "code",
   "execution_count": 24,
   "id": "a846c685",
   "metadata": {},
   "outputs": [
    {
     "data": {
      "text/plain": [
       "'is a jupyter not'"
      ]
     },
     "execution_count": 24,
     "metadata": {},
     "output_type": "execute_result"
    }
   ],
   "source": [
    "z=\"This is a jupyter note\"\n",
    "z[5:-1]"
   ]
  },
  {
   "cell_type": "code",
   "execution_count": 25,
   "id": "331b8be4",
   "metadata": {},
   "outputs": [
    {
     "data": {
      "text/plain": [
       "'This is a jupyter not'"
      ]
     },
     "execution_count": 25,
     "metadata": {},
     "output_type": "execute_result"
    }
   ],
   "source": [
    "z[0:-1]"
   ]
  },
  {
   "cell_type": "code",
   "execution_count": 26,
   "id": "21f941f1",
   "metadata": {},
   "outputs": [
    {
     "data": {
      "text/plain": [
       "'jupyter not'"
      ]
     },
     "execution_count": 26,
     "metadata": {},
     "output_type": "execute_result"
    }
   ],
   "source": [
    "z[10:-1]"
   ]
  },
  {
   "cell_type": "code",
   "execution_count": 27,
   "id": "7377a6ab",
   "metadata": {},
   "outputs": [
    {
     "data": {
      "text/plain": [
       "'e'"
      ]
     },
     "execution_count": 27,
     "metadata": {},
     "output_type": "execute_result"
    }
   ],
   "source": [
    "z[-1]"
   ]
  },
  {
   "cell_type": "code",
   "execution_count": 38,
   "id": "477dd25d",
   "metadata": {},
   "outputs": [
    {
     "data": {
      "text/plain": [
       "'Ti saj'"
      ]
     },
     "execution_count": 38,
     "metadata": {},
     "output_type": "execute_result"
    }
   ],
   "source": [
    "z[0:11:2]"
   ]
  },
  {
   "cell_type": "code",
   "execution_count": 39,
   "id": "0ed80305",
   "metadata": {},
   "outputs": [
    {
     "data": {
      "text/plain": [
       "'Ti sajptrnt'"
      ]
     },
     "execution_count": 39,
     "metadata": {},
     "output_type": "execute_result"
    }
   ],
   "source": [
    "z[0:-1:2]"
   ]
  },
  {
   "cell_type": "code",
   "execution_count": 40,
   "id": "8d5da8ef",
   "metadata": {},
   "outputs": [
    {
     "data": {
      "text/plain": [
       "True"
      ]
     },
     "execution_count": 40,
     "metadata": {},
     "output_type": "execute_result"
    }
   ],
   "source": [
    "1<2 #conditional\n"
   ]
  },
  {
   "cell_type": "code",
   "execution_count": 41,
   "id": "f5f53128",
   "metadata": {},
   "outputs": [
    {
     "data": {
      "text/plain": [
       "False"
      ]
     },
     "execution_count": 41,
     "metadata": {},
     "output_type": "execute_result"
    }
   ],
   "source": [
    "1>2"
   ]
  },
  {
   "cell_type": "code",
   "execution_count": 42,
   "id": "9821eb5a",
   "metadata": {},
   "outputs": [
    {
     "name": "stdout",
     "output_type": "stream",
     "text": [
      "Hello! This is a jupyter Note\n"
     ]
    }
   ],
   "source": [
    "print(\"Hello! This is a jupyter Note\")  #to print any sentence"
   ]
  },
  {
   "cell_type": "code",
   "execution_count": 43,
   "id": "6e170ab7",
   "metadata": {},
   "outputs": [
    {
     "name": "stdout",
     "output_type": "stream",
     "text": [
      "Hello! This is a jupyter Note\n"
     ]
    }
   ],
   "source": [
    "a=\"This is a jupyter Note\"\n",
    "print(\"Hello!\",a)\n"
   ]
  },
  {
   "cell_type": "code",
   "execution_count": 47,
   "id": "75d73b86",
   "metadata": {},
   "outputs": [
    {
     "name": "stdout",
     "output_type": "stream",
     "text": [
      "1\n",
      "2\n"
     ]
    },
    {
     "data": {
      "text/plain": [
       "int"
      ]
     },
     "execution_count": 47,
     "metadata": {},
     "output_type": "execute_result"
    }
   ],
   "source": [
    "a=int(input())  #user defined input\n",
    "b=int(input())\n",
    "type(a)"
   ]
  },
  {
   "cell_type": "code",
   "execution_count": 49,
   "id": "083d546b",
   "metadata": {},
   "outputs": [
    {
     "name": "stdout",
     "output_type": "stream",
     "text": [
      "Enter NameVacha Soni\n",
      "Name: Vacha Soni\n"
     ]
    }
   ],
   "source": [
    "a = input(\"Enter Name\") #for string\n",
    "print(\"Name:\",a)"
   ]
  },
  {
   "cell_type": "code",
   "execution_count": null,
   "id": "79ed5120",
   "metadata": {},
   "outputs": [],
   "source": []
  }
 ],
 "metadata": {
  "kernelspec": {
   "display_name": "Python 3 (ipykernel)",
   "language": "python",
   "name": "python3"
  },
  "language_info": {
   "codemirror_mode": {
    "name": "ipython",
    "version": 3
   },
   "file_extension": ".py",
   "mimetype": "text/x-python",
   "name": "python",
   "nbconvert_exporter": "python",
   "pygments_lexer": "ipython3",
   "version": "3.11.4"
  }
 },
 "nbformat": 4,
 "nbformat_minor": 5
}
